{
 "cells": [
  {
   "cell_type": "markdown",
   "metadata": {},
   "source": [
    "## Calculating $ \\pi $ Using Randomness\n",
    "\n",
    "Normally when we think of randomness we think of anything we can't explain, or predict. many people think that digits of pi are random, but that's just because they're difficult to predict or calculate.\n",
    "\n",
    "Below is a program that generates a \"random\" number."
   ]
  },
  {
   "cell_type": "code",
   "execution_count": 1,
   "metadata": {
    "scrolled": true
   },
   "outputs": [
    {
     "name": "stdout",
     "output_type": "stream",
     "text": [
      "0.17004441191457897\n"
     ]
    }
   ],
   "source": [
    "from random import uniform\n",
    "print(uniform(-1, 1))# this generates a random decimal between -1 and 1"
   ]
  },
  {
   "cell_type": "code",
   "execution_count": 2,
   "metadata": {
    "scrolled": false
   },
   "outputs": [
    {
     "data": {
      "image/png": "[encoded data removed]",
      "text/plain": [
       "<Figure size 360x360 with 1 Axes>"
      ]
     },
     "metadata": {
      "needs_background": "light"
     },
     "output_type": "display_data"
    }
   ],
   "source": [
    "import matplotlib.pyplot as plt\n",
    "# 'matplotlib' is package for python that allows you to graph things\n",
    "\n",
    "\n",
    "index = 0\n",
    "number_of_points = 1_000_000\n",
    "\n",
    "x = []# x and y variables will become lists that hold the x and y values of random points.\n",
    "y = []\n",
    "\n",
    "while index < number_of_points:\n",
    "    x.append(uniform(-1, 1))#this line adds a random number to the end of the list (x)\n",
    "    y.append(uniform(-1, 1))\n",
    "    index = len(x)\n",
    "    \n",
    "plt.subplots(figsize=(5, 5))# this controls the size of the graph\n",
    "plt.scatter(x, y)\n",
    "plt.show()\n"
   ]
  },
  {
   "cell_type": "markdown",
   "metadata": {},
   "source": [
    "$ \\sqrt{ x^2 + y^2 } $\n",
    "\n",
    "The expression above will tell us how far away a given point is from the origin. let's show only the points that are less than one unit away from the origin. we'll call the $ x $ axis of points inside the circle \"inside_x\" and the $ y $ axis \"inside_y\""
   ]
  },
  {
   "cell_type": "code",
   "execution_count": 3,
   "metadata": {
    "scrolled": true
   },
   "outputs": [
    {
     "data": {
      "image/png": "[encoded data removed]",
      "text/plain": [
       "<Figure size 360x360 with 1 Axes>"
      ]
     },
     "metadata": {
      "needs_background": "light"
     },
     "output_type": "display_data"
    }
   ],
   "source": [
    "from math import sqrt\n",
    "\n",
    "\n",
    "inside_x = []\n",
    "inside_y = []\n",
    "\n",
    "index = 0\n",
    "\n",
    "while index < len(x):\n",
    "    if sqrt((x[index]**2) + (y[index]**2)) <= 1:\n",
    "        inside_x.append(x[index])\n",
    "        inside_y.append(y[index])\n",
    "    \n",
    "    index += 1\n",
    "        \n",
    "\n",
    "\n",
    "plt.subplots(figsize=(5, 5))# this controls the size of the graph\n",
    "plt.scatter(inside_x, inside_y)\n",
    "\n",
    "plt.show()\n",
    "\n"
   ]
  },
  {
   "cell_type": "markdown",
   "metadata": {},
   "source": [
    "At this point you may start to see where this is going. by only showing points on our graph that are a certain distance from the origin, we have created a circle.\n",
    "\n",
    "$ A = \\pi r^2 \\\\\n",
    "r = 1$\n"
   ]
  },
  {
   "cell_type": "markdown",
   "metadata": {},
   "source": [
    "$ \\frac{A}{ r^2} = \\pi $\n",
    "\n",
    "The above equation is simply a redistributed version of $ A = \\pi r^2 $ we already know that the radius is 1, so we can simplify it to $ A = \\pi $. So how do we find the area? The way I'm going to do it is to first find how many points there are in total, divide by the area of the square to get how many points there are per square unit. so let's do that"
   ]
  },
  {
   "cell_type": "code",
   "execution_count": 4,
   "metadata": {},
   "outputs": [
    {
     "name": "stdout",
     "output_type": "stream",
     "text": [
      "There are  1,000,000 points total\n",
      "There's 4 square units worth of area\n",
      "There's 250000.0 points per square unit\n",
      "there's  784,313 points inside the circle\n"
     ]
    }
   ],
   "source": [
    "print(\"There are\", f'{len(x) : ,}', \"points total\")\n",
    "print(\"There's 4 square units worth of area\")\n",
    "print(\"There's\", len(x)/4, \"points per square unit\")\n",
    "print(\"there's\", f'{len(inside_x) : ,}',\"points inside the circle\")"
   ]
  },
  {
   "cell_type": "markdown",
   "metadata": {},
   "source": [
    "$ \\frac{total-points}{square-area} =  \\frac{points-in-circle}{circle-area} $\n",
    "\n",
    "we still need to find the circle area of the circle. In order to do this we need to make the assumption that the distribution (points per square unit) is roughly the same inside and outside of the circle. so we can simply divide the number of points inside the circle by the number of points per square unit and we'll get a rough estimation of $ \\pi $."
   ]
  },
  {
   "cell_type": "code",
   "execution_count": 5,
   "metadata": {},
   "outputs": [
    {
     "name": "stdout",
     "output_type": "stream",
     "text": [
      "π ≈ 3.137252000000000151658241520635783672332763671875\n"
     ]
    }
   ],
   "source": [
    "from decimal import Decimal\n",
    "print(\"π ≈ \" + str(Decimal(len(inside_x) / (len(x) / 4))))"
   ]
  },
  {
   "cell_type": "markdown",
   "metadata": {},
   "source": [
    "You may have realized that this isn't a very close aproximation. in cell two, turn up the variable marked \"number_of_points\" to a higher number."
   ]
  }
 ],
 "metadata": {
  "celltoolbar": "Attachments",
  "kernelspec": {
   "display_name": "Python 3",
   "language": "python",
   "name": "python3"
  },
  "language_info": {
   "codemirror_mode": {
    "name": "ipython",
    "version": 3
   },
   "file_extension": ".py",
   "mimetype": "text/x-python",
   "name": "python",
   "nbconvert_exporter": "python",
   "pygments_lexer": "ipython3",
   "version": "3.8.2"
  }
 },
 "nbformat": 4,
 "nbformat_minor": 4
}
